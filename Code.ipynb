{
 "cells": [
  {
   "cell_type": "code",
   "execution_count": null,
   "id": "02fe077a-8494-40cd-9c6b-18805f619ca3",
   "metadata": {},
   "outputs": [],
   "source": [
    "import numpy as np\n",
    "import pandas as pd\n",
    "import matplotlib.pyplot as plt\n",
    "import seaborn as sns \n",
    "sns.set_style(\"darkgrid\")"
   ]
  },
  {
   "cell_type": "code",
   "execution_count": null,
   "id": "7d4b824e-7d5d-4a92-a2a5-a930dbdccfad",
   "metadata": {},
   "outputs": [],
   "source": [
    "facebook_df = pd.read_csv('facebook_ads_data (2.0).csv')"
   ]
  },
  {
   "cell_type": "code",
   "execution_count": null,
   "id": "53ec18b7-e3c7-4c6d-9212-86fd687d4096",
   "metadata": {},
   "outputs": [],
   "source": [
    "#Cтворюємо новий df з даними лише за 2021 рік\n",
    "facebook_df['ad_date'] = pd.to_datetime(facebook_df['ad_date'])\n",
    "facebook_2021 = facebook_df[facebook_df['ad_date'].dt.year == 2021]"
   ]
  },
  {
   "cell_type": "code",
   "execution_count": null,
   "id": "c19ed34d-231f-4985-887b-35a37e471170",
   "metadata": {},
   "outputs": [],
   "source": [
    "#Графік з щоденною сумою витрат на рекламу в 2021 році\n",
    "facebook_2021_spend = facebook_2021.groupby('ad_date', as_index = False)['total_spend'].rolling(window=3).sum()\n",
    "sns.lineplot(facebook_2021_spend, \n",
    "             x='ad_date', \n",
    "             y='total_spend')\n",
    "plt.xticks(rotation=90)"
   ]
  },
  {
   "cell_type": "code",
   "execution_count": null,
   "id": "dba2fc0f-48b6-428b-a734-e589b7b57ca2",
   "metadata": {},
   "outputs": [],
   "source": [
    "#Графік з щоденним ROMI в 2021 році\n",
    "facebook_2021_romi_avg = facebook_2021.groupby('ad_date', as_index = False)['romi'].rolling(window=3).mean()\n",
    "sns.lineplot(facebook_2021_romi_avg, \n",
    "             x='ad_date', \n",
    "             y='romi')\n",
    "plt.xticks(rotation=90)"
   ]
  },
  {
   "cell_type": "code",
   "execution_count": null,
   "id": "650dcd5a-77d0-4cf6-9d8b-b6e93418daed",
   "metadata": {},
   "outputs": [],
   "source": [
    "#Графік загальної суми витрат на рекламу в кожній з кампаній\n",
    "facebook_campaign_spend = facebook_df.groupby('campaign_name', as_index = False)['total_spend'].sum()\n",
    "sns.barplot(facebook_campaign_spend, \n",
    "            x='campaign_name', \n",
    "            y= 'total_spend')\n",
    "plt.xticks(rotation=90)"
   ]
  },
  {
   "cell_type": "code",
   "execution_count": null,
   "id": "a3be75cc-efcf-4bd5-bc3c-089fd725fa9c",
   "metadata": {},
   "outputs": [],
   "source": [
    "#Загальний ROMI в кожній з кампаній\n",
    "facebook_campaign_romi_avg = facebook_df.groupby('campaign_name', as_index = False)['romi'].mean()\n",
    "sns.barplot(facebook_campaign_romi_avg, \n",
    "            x='campaign_name', \n",
    "            y= 'romi')\n",
    "plt.xticks(rotation=90)"
   ]
  },
  {
   "cell_type": "code",
   "execution_count": null,
   "id": "9cbc3102-08cf-431f-9dcb-6c01db3250c4",
   "metadata": {},
   "outputs": [],
   "source": [
    "# За допомогою box plot визнач, яким був розкид щоденного ROMI в кожній кампаній (за назвою кампанії.)\n",
    "sns.boxplot(facebook_df, \n",
    "            x='campaign_name', \n",
    "            y= 'romi')\n",
    "plt.xticks(rotation=90)"
   ]
  },
  {
   "cell_type": "code",
   "execution_count": null,
   "id": "5f7bb4af-5d51-4cb2-8ca8-746fc88632d4",
   "metadata": {},
   "outputs": [],
   "source": [
    "# Гістограма з розподілом значень ROMI\n",
    "sns.histplot(facebook_df,\n",
    "             x='romi')"
   ]
  },
  {
   "cell_type": "code",
   "execution_count": null,
   "id": "fe3fe809-072f-4c14-b2b4-138b6863d538",
   "metadata": {},
   "outputs": [],
   "source": [
    "#Побудуй теплову карту кореляції між усіма числовими показниками в таблиці \n",
    "sns.heatmap(facebook_df.corr(numeric_only=True), \n",
    "            annot=True, \n",
    "            fmt='.0%', \n",
    "            cmap= 'crest_r')"
   ]
  },
  {
   "cell_type": "code",
   "execution_count": null,
   "id": "921efcec-b9ea-4f78-92cd-674daab2839d",
   "metadata": {},
   "outputs": [],
   "source": [
    "# Побудуй точкову діаграму з лінійною регресією\n",
    "sns.lmplot(facebook_df,\n",
    "          x='total_spend',\n",
    "          y='total_value')"
   ]
  }
 ],
 "metadata": {
  "kernelspec": {
   "display_name": "Python 3 (ipykernel)",
   "language": "python",
   "name": "python3"
  },
  "language_info": {
   "codemirror_mode": {
    "name": "ipython",
    "version": 3
   },
   "file_extension": ".py",
   "mimetype": "text/x-python",
   "name": "python",
   "nbconvert_exporter": "python",
   "pygments_lexer": "ipython3",
   "version": "3.12.4"
  }
 },
 "nbformat": 4,
 "nbformat_minor": 5
}
